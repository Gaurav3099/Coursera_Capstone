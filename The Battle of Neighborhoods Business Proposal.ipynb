{
 "cells": [
  {
   "cell_type": "markdown",
   "metadata": {},
   "source": [
    "<h1>The Battle of Neighborhoods | Business Proposal | Introduction</h1>"
   ]
  },
  {
   "cell_type": "markdown",
   "metadata": {},
   "source": [
    "<h2>Introduction:</h2>"
   ]
  },
  {
   "cell_type": "markdown",
   "metadata": {},
   "source": [
    "<p>This is a capstone project for IBM Data Science Professional Certificate. In\n",
    "this project, I am creating a hypothetical scenario for a concept that\n",
    "there may not be enough Indian Restaurants in Toronto Area. Therefore it\n",
    "might be a great opportunity for an entrepreneur who is based inCanada.</p>\n",
    "<p>As Indian food is popular among the Asian community, so this\n",
    "entrepreneur might think of opening its business in areas where the Asian\n",
    "community resides. With the purpose in mind, finding the location to\n",
    "open such a restaurant is one of the most important decisions for this\n",
    "entrepreneur and I am designing this project to help him find the most\n",
    "suitable location.</p>"
   ]
  },
  {
   "cell_type": "markdown",
   "metadata": {},
   "source": [
    "<h2>Business Problem</h2>"
   ]
  },
  {
   "cell_type": "markdown",
   "metadata": {},
   "source": [
    "The objective of this capstone project is to find the most suitable\n",
    "location for the entrepreneur to open a new Indian Restaurant in Toronto, Canada. By using data science methods and tools along with machine\n",
    "learning algorithms such as clustering, this project aims to provide\n",
    "solutions to answer the business question: In Toronto, if an entrepreneur\n",
    "wants to open an Indian Restaurant, where should they consider opening\n",
    "it?"
   ]
  },
  {
   "cell_type": "markdown",
   "metadata": {},
   "source": [
    "<h2>Target Audience</h2>"
   ]
  },
  {
   "cell_type": "markdown",
   "metadata": {},
   "source": [
    "The entrepreneur who wants to find the location to open authentic Indian\n",
    "restaurant."
   ]
  },
  {
   "cell_type": "code",
   "execution_count": null,
   "metadata": {},
   "outputs": [],
   "source": []
  }
 ],
 "metadata": {
  "kernelspec": {
   "display_name": "Python 3",
   "language": "python",
   "name": "python3"
  },
  "language_info": {
   "codemirror_mode": {
    "name": "ipython",
    "version": 3
   },
   "file_extension": ".py",
   "mimetype": "text/x-python",
   "name": "python",
   "nbconvert_exporter": "python",
   "pygments_lexer": "ipython3",
   "version": "3.7.6"
  }
 },
 "nbformat": 4,
 "nbformat_minor": 4
}
